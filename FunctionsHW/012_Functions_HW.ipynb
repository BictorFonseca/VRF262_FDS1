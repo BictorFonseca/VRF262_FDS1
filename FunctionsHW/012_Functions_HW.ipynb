{
 "cells": [
  {
   "cell_type": "markdown",
   "metadata": {},
   "source": [
    "## 012_Functions_HW"
   ]
  },
  {
   "cell_type": "markdown",
   "metadata": {},
   "source": [
    "#### 1. Functino Design and Unit Convesions:\n",
    "* Design and implement functions for Miles - Kilometers, Fahrenheit - Celsius, Kilograms - Pounds\n",
    "* Dedicated functions (miles_to_km() etc.)\n",
    "* Each functino should return answer"
   ]
  },
  {
   "cell_type": "code",
   "execution_count": 24,
   "metadata": {},
   "outputs": [],
   "source": [
    "#Pulled from \"unit_conversions.py\"\n",
    "def miles_to_km(miles):\n",
    "    return miles * 1.609\n",
    "def km_to_miles(km):\n",
    "    return km * 0.6214\n",
    "def fah_to_cel(f):\n",
    "    return ((f-32)*(5/9))\n",
    "def cel_to_fah(c):\n",
    "    return (c *(9/5)) + 32\n",
    "def kilo_to_pound(kg):\n",
    "    return kg * 2.205\n",
    "def pound_to_kilo(lb):\n",
    "    return lb * 0.4536"
   ]
  },
  {
   "cell_type": "markdown",
   "metadata": {},
   "source": [
    "#### 2. Module Creation\n",
    "* Organize functions in module\n",
    "* import module and demonstrate use"
   ]
  },
  {
   "cell_type": "code",
   "execution_count": 25,
   "metadata": {},
   "outputs": [
    {
     "name": "stdout",
     "output_type": "stream",
     "text": [
      "Miles to Kilometers: 1.609\n",
      "Kilometers to Miles: 0.621\n",
      "Fahrenheit to Celsius: -17.222\n",
      "Celsius to Fahrenheit: 33.800\n",
      "Kilograms to Pounds: 2.205\n",
      "Pounds to Kilograms: 0.454\n"
     ]
    }
   ],
   "source": [
    "import unit_conversions as uc\n",
    "print(\"Miles to Kilometers:\", \"%.3f\" % uc.miles_to_km(1))\n",
    "print(\"Kilometers to Miles:\", \"%.3f\" % uc.km_to_miles(1))\n",
    "print(\"Fahrenheit to Celsius:\", \"%.3f\" % uc.fah_to_cel(1))\n",
    "print(\"Celsius to Fahrenheit:\", \"%.3f\" % uc.cel_to_fah(1))\n",
    "print(\"Kilograms to Pounds:\", \"%.3f\" % uc.kilo_to_pound(1))\n",
    "print(\"Pounds to Kilograms:\", \"%.3f\" % uc.pound_to_kilo(1))"
   ]
  },
  {
   "cell_type": "markdown",
   "metadata": {},
   "source": [
    "#### 3.Namespaces\n",
    "* Make module (Add len function that returns 42)\n",
    "* Create \"mylist\" of random elements\n",
    "* len(mylist)\n",
    "* Import (mylen.len())\n",
    "* len(mylist)\n"
   ]
  },
  {
   "cell_type": "code",
   "execution_count": 2,
   "metadata": {},
   "outputs": [
    {
     "name": "stdout",
     "output_type": "stream",
     "text": [
      "5\n",
      "42\n",
      "42\n"
     ]
    }
   ],
   "source": [
    "mylist=[5,7,15,21,4]\n",
    "print(len(mylist))\n",
    "import mylen\n",
    "print(mylen.len(mylist))\n",
    "from mylen import len\n",
    "print(len(mylist))"
   ]
  },
  {
   "cell_type": "markdown",
   "metadata": {},
   "source": [
    "###### The len function that actually works has been overwritten by the len function that does not work because they have the same name. This demonstrates that function names should be unique and specific so that they don't replace other functions."
   ]
  }
 ],
 "metadata": {
  "kernelspec": {
   "display_name": "cs329e",
   "language": "python",
   "name": "python3"
  },
  "language_info": {
   "codemirror_mode": {
    "name": "ipython",
    "version": 3
   },
   "file_extension": ".py",
   "mimetype": "text/x-python",
   "name": "python",
   "nbconvert_exporter": "python",
   "pygments_lexer": "ipython3",
   "version": "3.9.17"
  },
  "orig_nbformat": 4
 },
 "nbformat": 4,
 "nbformat_minor": 2
}
