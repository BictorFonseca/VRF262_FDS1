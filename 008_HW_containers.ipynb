{
 "cells": [
  {
   "cell_type": "markdown",
   "metadata": {},
   "source": [
    "# Data Structures: Indexing and using Methods"
   ]
  },
  {
   "cell_type": "markdown",
   "metadata": {},
   "source": [
    "## 1. Indexing Strings\n",
    "### print a. first character b. last character c. \"H\" d. type of \"H\"\n"
   ]
  },
  {
   "cell_type": "code",
   "execution_count": 1,
   "metadata": {},
   "outputs": [
    {
     "name": "stdout",
     "output_type": "stream",
     "text": [
      "P\n",
      "N\n",
      "H\n",
      "<class 'str'>\n"
     ]
    }
   ],
   "source": [
    "s= \"PYTHON\"\n",
    "\n",
    "#First character\n",
    "print(s[0])\n",
    "#Last character\n",
    "print(s[-1])\n",
    "#\"H\" and type\n",
    "print(s[3])\n",
    "print(type(s[3]))"
   ]
  },
  {
   "cell_type": "markdown",
   "metadata": {},
   "source": [
    "## 2. Indexing Tuples:\n",
    "### retrieve and print a. first element b. third element c. set 3rd element to 30.4"
   ]
  },
  {
   "cell_type": "code",
   "execution_count": 2,
   "metadata": {},
   "outputs": [
    {
     "name": "stdout",
     "output_type": "stream",
     "text": [
      "10\n",
      "30\n",
      "(10, 20, 30.4, 40, 50, 60)\n"
     ]
    }
   ],
   "source": [
    "t= (10,20,30,40,50,60)\n",
    "\n",
    "#First element\n",
    "print(t[0])\n",
    "#Third element\n",
    "print(t[2])\n",
    "#set third to 30.4\n",
    "tl=list(t)\n",
    "tl[2]=30.4\n",
    "t=tuple(tl)\n",
    "print(t)"
   ]
  },
  {
   "cell_type": "markdown",
   "metadata": {},
   "source": [
    "## 3. Indexing Lists and Lists of Lists\n",
    "### retrieve and print a. first element b. last element c. sublist d. 65"
   ]
  },
  {
   "cell_type": "code",
   "execution_count": 3,
   "metadata": {},
   "outputs": [
    {
     "name": "stdout",
     "output_type": "stream",
     "text": [
      "5\n",
      "95\n",
      "[55, 65, 75]\n",
      "65\n"
     ]
    }
   ],
   "source": [
    "lst=[5, 15, 25, [35, 45, [55, 65, 75], 85], 95]\n",
    "\n",
    "#First elemnt\n",
    "print(lst[0])\n",
    "#last elmnt\n",
    "print(lst[-1])\n",
    "#Sublist\n",
    "print(lst[3][2])\n",
    "#65\n",
    "print(lst[3][2][1])"
   ]
  },
  {
   "cell_type": "markdown",
   "metadata": {},
   "source": [
    "## 4. Lists of Lists as Arrays\n",
    "### a.Retrieve second row b. Retrieve third column c. change center element to 0 and print modified matrix"
   ]
  },
  {
   "cell_type": "code",
   "execution_count": 9,
   "metadata": {},
   "outputs": [
    {
     "name": "stdout",
     "output_type": "stream",
     "text": [
      "[4, 5, 6]\n",
      "3\n",
      "6\n",
      "9\n",
      "[[1, 2, 3], [4, 0, 6], [7, 8, 9]]\n"
     ]
    }
   ],
   "source": [
    "matrix = [\n",
    "    [1, 2, 3],\n",
    "    [4, 5, 6],\n",
    "    [7, 8, 9]\n",
    "]\n",
    "\n",
    "#Retrieve second row\n",
    "print(matrix[1])\n",
    "#Retrieve third column\n",
    "for i in matrix:\n",
    "    print(i[2])\n",
    "#Change center elemnt to 0 and print modified matrix\n",
    "matrix[1][1]=0\n",
    "print(matrix)"
   ]
  },
  {
   "cell_type": "markdown",
   "metadata": {},
   "source": [
    "## 5. Using Sets:\n",
    "### a. create sets from both lists b. find union of two sets c. find intersection of two sets d. find elements that are in A but not in B e. find elements that are in A or B but not Both"
   ]
  },
  {
   "cell_type": "code",
   "execution_count": 18,
   "metadata": {},
   "outputs": [
    {
     "name": "stdout",
     "output_type": "stream",
     "text": [
      "{1, 2, 3, 4, 5, 6, 7, 8}\n",
      "{4, 5}\n",
      "{1, 2, 3}\n",
      "{1, 2, 3, 6, 7, 8}\n"
     ]
    }
   ],
   "source": [
    "A = [1, 2, 2, 3, 4, 4, 5] \n",
    "B = [4, 5, 5, 6, 7, 7,  8]\n",
    "\n",
    "#Create sets from both lists\n",
    "sA=set(A)\n",
    "sB=set(B)\n",
    "#Union\n",
    "print(sA|sB)\n",
    "#Intersection\n",
    "print(sA&sB)\n",
    "#Only in A not in B\n",
    "print(sA-sB)\n",
    "#Elements in A or B not BOTH\n",
    "print(sA^sB)\n",
    "\n",
    "\n"
   ]
  },
  {
   "cell_type": "markdown",
   "metadata": {},
   "source": [
    "## 6. Working with Dictionaries\n",
    "### a. Retrieve stock of apple b. add new fruit stock 40 c. update banana stock d. remove orange"
   ]
  },
  {
   "cell_type": "code",
   "execution_count": 23,
   "metadata": {},
   "outputs": [
    {
     "name": "stdout",
     "output_type": "stream",
     "text": [
      "50\n",
      "{'apple': 50, 'banana': 25, 'orange': 30, 'grape': 45, 'pear': 40}\n",
      "{'apple': 50, 'banana': 30, 'orange': 30, 'grape': 45, 'pear': 40}\n",
      "{'apple': 50, 'banana': 30, 'grape': 45, 'pear': 40}\n"
     ]
    }
   ],
   "source": [
    "stock = {\n",
    "    \"apple\": 50,\n",
    "    \"banana\": 25,\n",
    "    \"orange\": 30,\n",
    "    \"grape\": 45\n",
    "}\n",
    "\n",
    "#stock of apple\n",
    "print(stock[\"apple\"])\n",
    "#Add new fruit\n",
    "stock[\"pear\"]=40\n",
    "print(stock)\n",
    "# update banana stock\n",
    "stock[\"banana\"]=30\n",
    "print(stock)\n",
    "#Remove orange\n",
    "del stock[\"orange\"]\n",
    "print(stock)"
   ]
  }
 ],
 "metadata": {
  "kernelspec": {
   "display_name": "cs329e",
   "language": "python",
   "name": "python3"
  },
  "language_info": {
   "codemirror_mode": {
    "name": "ipython",
    "version": 3
   },
   "file_extension": ".py",
   "mimetype": "text/x-python",
   "name": "python",
   "nbconvert_exporter": "python",
   "pygments_lexer": "ipython3",
   "version": "3.9.17"
  },
  "orig_nbformat": 4
 },
 "nbformat": 4,
 "nbformat_minor": 2
}
