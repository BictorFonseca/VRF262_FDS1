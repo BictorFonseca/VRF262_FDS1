{
 "cells": [
  {
   "cell_type": "markdown",
   "metadata": {},
   "source": [
    "## Control Structures"
   ]
  },
  {
   "cell_type": "markdown",
   "metadata": {},
   "source": [
    "#### 0. Logic: Write code that determines if letters are in string. Write a line that perfomr xor on two booleans using and or and not"
   ]
  },
  {
   "cell_type": "code",
   "execution_count": 13,
   "metadata": {},
   "outputs": [
    {
     "name": "stdout",
     "output_type": "stream",
     "text": [
      "True\n"
     ]
    }
   ],
   "source": [
    "test_strs=[\"y\",\"o\"]\n",
    "comp_str=\"Hello World!\"\n",
    "yn=False\n",
    "#iterate through list\n",
    "for i in test_strs:\n",
    "    #If character in list is in string, True\n",
    "    if i in comp_str:\n",
    "        yn=True\n",
    "        break\n",
    "#default isfalse.\n",
    "print(yn)"
   ]
  },
  {
   "cell_type": "code",
   "execution_count": 29,
   "metadata": {},
   "outputs": [
    {
     "name": "stdout",
     "output_type": "stream",
     "text": [
      "True\n"
     ]
    }
   ],
   "source": [
    "a=True\n",
    "b=False\n",
    "xor=True\n",
    "#A!=B | A=!B\n",
    "if (a and not b) or (not a and b):\n",
    "    print(xor)\n",
    "else:\n",
    "    xor=False\n",
    "    print(xor)"
   ]
  },
  {
   "cell_type": "markdown",
   "metadata": {},
   "source": [
    "#### 1. Age Category: Write program that asks user to input age, and classofy them into categories"
   ]
  },
  {
   "cell_type": "code",
   "execution_count": 31,
   "metadata": {},
   "outputs": [
    {
     "name": "stdout",
     "output_type": "stream",
     "text": [
      "Child\n"
     ]
    }
   ],
   "source": [
    "age=int(input(\"Enter age: \"))\n",
    "#Classification\n",
    "if age <=2:\n",
    "    print(\"Infant\")\n",
    "elif age<=12:\n",
    "    print(\"Child\")\n",
    "elif age <=19:\n",
    "    print(\"Teen\")\n",
    "elif age<=64:\n",
    "    print(\"Adult\")\n",
    "else:\n",
    "    print(\"Senior\")"
   ]
  },
  {
   "cell_type": "markdown",
   "metadata": {},
   "source": [
    "#### 2. Number Calssifier: Input number. A.) check if positive, negative or 0 B.) check if even or odd"
   ]
  },
  {
   "cell_type": "code",
   "execution_count": null,
   "metadata": {},
   "outputs": [
    {
     "name": "stdout",
     "output_type": "stream",
     "text": [
      "Your number, -231 , is Negative and odd.\n"
     ]
    }
   ],
   "source": [
    "num=int(input(\"Input a Number \"))\n",
    "#Keep track of positive/negative/0\n",
    "p0n=\"\"\n",
    "\n",
    "#Positive/Negative/0 Test\n",
    "if num <0:\n",
    "    p0n=\"Negative\"\n",
    "elif num >0:\n",
    "    p0n=\"Positive\"\n",
    "else:\n",
    "    p0n=\"Zero\"\n",
    "#Even/Odd Test\n",
    "if num%2==0:\n",
    "    print(\"Your number,\", num, \", is\", p0n, \"and even.\")\n",
    "else:\n",
    "    print(\"Your number,\", num, \", is\", p0n, \"and odd.\")"
   ]
  },
  {
   "cell_type": "markdown",
   "metadata": {},
   "source": [
    "#### 3. Simple Classifier: Design a calculator. Should input two numbers, select operation, perform operationa nd display results"
   ]
  },
  {
   "cell_type": "code",
   "execution_count": 16,
   "metadata": {},
   "outputs": [
    {
     "name": "stdout",
     "output_type": "stream",
     "text": [
      "0.7777777777777778\n"
     ]
    }
   ],
   "source": [
    "nums=input(\"Input two numbers seperated by space: \")\n",
    "#Store numbers as own variables\n",
    "n1,n2=nums.split(sep=\" \")\n",
    "op=input(\"Input operation: \")\n",
    "#Possible operations\n",
    "oop=[\"*\",\"+\",\"-\",\"/\"]\n",
    "\n",
    "#If possible operation is possible\n",
    "if op in oop:\n",
    "    #Process equation\n",
    "    eq=str(n1)+op+str(n2)\n",
    "    print(eval(eq))\n",
    "else:\n",
    "    #Not possible operation\n",
    "    print(\"Operation invalid\")"
   ]
  },
  {
   "cell_type": "markdown",
   "metadata": {},
   "source": [
    "#### Guessing Game: Program Produce random answer 1-10, Ask user to guess number, provide hints, user should have max attempts, after max or correct guess reveal num"
   ]
  },
  {
   "cell_type": "code",
   "execution_count": 11,
   "metadata": {},
   "outputs": [
    {
     "name": "stdout",
     "output_type": "stream",
     "text": [
      "Too Low!\n",
      "Too Low!\n",
      "Too Low!\n",
      "Too Low!\n",
      "Too Low!\n",
      "You Lose :(\n",
      "Number was 4\n"
     ]
    }
   ],
   "source": [
    "import random\n",
    "ans=random.randint(1,10)\n",
    "#Keep track if lost or won\n",
    "los=True\n",
    "\n",
    "#For loop for attempt counts\n",
    "for i in range(0,5):\n",
    "    gu=int(input(\"Enter your guess: \"))\n",
    "    if gu > ans:\n",
    "        print(\"Too High!\")\n",
    "    elif gu < ans:\n",
    "        print(\"Too Low!\")\n",
    "    else:\n",
    "        print(\"You win!\")\n",
    "        los=False\n",
    "        break\n",
    "if los:\n",
    "    print(\"You Lose :(\")\n",
    "print(\"Number was\", ans)"
   ]
  },
  {
   "cell_type": "markdown",
   "metadata": {},
   "source": [
    "#### 5. Counter Contrast: Write two versions of a program that inputs positive int and print nubmers 1-n. For and while"
   ]
  },
  {
   "cell_type": "code",
   "execution_count": 36,
   "metadata": {},
   "outputs": [
    {
     "name": "stdout",
     "output_type": "stream",
     "text": [
      "For loop\n",
      "1\n",
      "2\n",
      "3\n",
      "While loop\n",
      "1\n",
      "2\n",
      "3\n"
     ]
    }
   ],
   "source": [
    "n=abs(int(input(\"Enter positive number: \")))\n",
    "\n",
    "print(\"For loop\")\n",
    "for i in range(1,n+1):\n",
    "    print(i)\n",
    "count=1\n",
    "print(\"While loop\")\n",
    "while count<=n:\n",
    "    print(count)\n",
    "    count+=1"
   ]
  },
  {
   "cell_type": "markdown",
   "metadata": {},
   "source": [
    "###### I like for loops better for this as it's easier to use a structure that automatically iterates rather than increasing iterating values manually"
   ]
  },
  {
   "cell_type": "markdown",
   "metadata": {},
   "source": [
    "#### 6. Multiplication Table: write program asks for number, generates and prints multiplication table up to 10. Using for and while"
   ]
  },
  {
   "cell_type": "code",
   "execution_count": 38,
   "metadata": {},
   "outputs": [
    {
     "name": "stdout",
     "output_type": "stream",
     "text": [
      "for\n",
      "3 x 1 = 3\n",
      "3 x 2 = 6\n",
      "3 x 3 = 9\n",
      "3 x 4 = 12\n",
      "3 x 5 = 15\n",
      "3 x 6 = 18\n",
      "3 x 7 = 21\n",
      "3 x 8 = 24\n",
      "3 x 9 = 27\n",
      "3 x 10 = 30\n",
      "While\n",
      "3 x 1 = 3\n",
      "3 x 2 = 6\n",
      "3 x 3 = 9\n",
      "3 x 4 = 12\n",
      "3 x 5 = 15\n",
      "3 x 6 = 18\n",
      "3 x 7 = 21\n",
      "3 x 8 = 24\n",
      "3 x 9 = 27\n",
      "3 x 10 = 30\n"
     ]
    }
   ],
   "source": [
    "n = int(input(\"Enter number: \"))\n",
    "\n",
    "print(\"for\")\n",
    "for i in range(1,11):\n",
    "    print(n,\"x\",i,\"=\",n*i)\n",
    "\n",
    "print(\"While\")\n",
    "cou=1\n",
    "while cou<=10:\n",
    "    print(n,\"x\",cou,\"=\",n*cou)\n",
    "    cou+=1"
   ]
  },
  {
   "cell_type": "markdown",
   "metadata": {},
   "source": [
    "###### I like for loops better for this as it's easier to use a structure that automatically iterates rather than increasing iterating values manually"
   ]
  },
  {
   "cell_type": "markdown",
   "metadata": {},
   "source": [
    "###### I would use a while loop for this as it's a boolean type structure than an iteration type one. While is better for going based on true/false rather than for which is better for iterating through something an amount of times unknown"
   ]
  }
 ],
 "metadata": {
  "kernelspec": {
   "display_name": "cs329e",
   "language": "python",
   "name": "python3"
  },
  "language_info": {
   "codemirror_mode": {
    "name": "ipython",
    "version": 3
   },
   "file_extension": ".py",
   "mimetype": "text/x-python",
   "name": "python",
   "nbconvert_exporter": "python",
   "pygments_lexer": "ipython3",
   "version": "3.9.17"
  },
  "orig_nbformat": 4
 },
 "nbformat": 4,
 "nbformat_minor": 2
}
