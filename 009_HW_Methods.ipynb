{
 "cells": [
  {
   "cell_type": "markdown",
   "metadata": {},
   "source": [
    "# Slicing and Data Container"
   ]
  },
  {
   "cell_type": "markdown",
   "metadata": {},
   "source": [
    "### Part A: Slicing"
   ]
  },
  {
   "cell_type": "markdown",
   "metadata": {},
   "source": [
    "##### Strings: Given string, extract and print Substring, extract and print \"Fun\", Extract and print every 3rd character"
   ]
  },
  {
   "cell_type": "code",
   "execution_count": 60,
   "metadata": {},
   "outputs": [
    {
     "name": "stdout",
     "output_type": "stream",
     "text": [
      "Programming\n",
      "Fun\n",
      "Pgmnsn\n"
     ]
    }
   ],
   "source": [
    "s=\"ProgrammingIsFun\"\n",
    "\n",
    "#\"Program\"\n",
    "print(s[:11])\n",
    "#\"Fun\"\n",
    "print(s[-3:])\n",
    "#Every third character\n",
    "print(s[::3])"
   ]
  },
  {
   "cell_type": "markdown",
   "metadata": {},
   "source": [
    "##### Lists: Extract and print first 3, last 2, index3-6 (inclusive), every 2nd element, every 2nd starting from the end"
   ]
  },
  {
   "cell_type": "code",
   "execution_count": 61,
   "metadata": {},
   "outputs": [
    {
     "name": "stdout",
     "output_type": "stream",
     "text": [
      "[10, 20, 30]\n",
      "[70, 80]\n",
      "[40, 50, 60, 70]\n",
      "[10, 30, 50, 70]\n",
      "[80, 60, 40, 20]\n"
     ]
    }
   ],
   "source": [
    "lst=[10, 20, 30, 40, 50, 60, 70, 80]\n",
    "\n",
    "#First three\n",
    "print(lst[:3])\n",
    "#Last two\n",
    "print(lst[-2:])\n",
    "#Index 3 - 6 (inclusive)\n",
    "print(lst[3:7])\n",
    "#Every 2nd\n",
    "print(lst[::2])\n",
    "#Every 2nd starting from the end\n",
    "print(lst[-1::-2])"
   ]
  },
  {
   "cell_type": "markdown",
   "metadata": {},
   "source": [
    "##### Tuples: Extract and print 2nd element, last 3 elements, index 2-5 (exclusive)"
   ]
  },
  {
   "cell_type": "code",
   "execution_count": 62,
   "metadata": {},
   "outputs": [
    {
     "name": "stdout",
     "output_type": "stream",
     "text": [
      "10\n",
      "(30, 35, 40)\n",
      "(20, 25)\n"
     ]
    }
   ],
   "source": [
    "tup=(5, 10, 15, 20, 25, 30, 35, 40)\n",
    "\n",
    "#2nd element\n",
    "print(tup[1])\n",
    "#Last 3 elements\n",
    "print(tup[-3:])\n",
    "#Index 2-5 (exclusive)\n",
    "print(tup[3:5])\n"
   ]
  },
  {
   "cell_type": "markdown",
   "metadata": {},
   "source": [
    "### Part B: Methods of Data Structures"
   ]
  },
  {
   "cell_type": "markdown",
   "metadata": {},
   "source": [
    "##### Strings: Find and print index of first occurance of \"ring\", convert to lowercase, replace \"Fun\" with \"Amazing\""
   ]
  },
  {
   "cell_type": "code",
   "execution_count": 67,
   "metadata": {},
   "outputs": [
    {
     "name": "stdout",
     "output_type": "stream",
     "text": [
      "7\n",
      "programmingisfun\n",
      "ProgrammingIsAmazing\n"
     ]
    }
   ],
   "source": [
    "#s=\"ProgrammingIsFun\"\n",
    "\n",
    "#Find and print index of first occurance \"ring\"\n",
    "print(s.find(\"ming\"))\n",
    "#Convert string to lowercase\n",
    "print(s.lower())\n",
    "#Replace \"Fun\" with \"Amazing\"\n",
    "print(s.replace(\"Fun\", \"Amazing\"))"
   ]
  },
  {
   "cell_type": "markdown",
   "metadata": {},
   "source": [
    "##### Lists: Update and Print list by adding elemtns 90 and 100 to end of list, remove second element, reverse order of elemetns, index of \"50\""
   ]
  },
  {
   "cell_type": "code",
   "execution_count": 64,
   "metadata": {},
   "outputs": [
    {
     "name": "stdout",
     "output_type": "stream",
     "text": [
      "[10, 20, 30, 40, 50, 60, 70, 80, 90, 100]\n",
      "[10, 30, 40, 50, 60, 70, 80, 90, 100]\n",
      "[100, 90, 80, 70, 60, 50, 40, 30, 10]\n",
      "5\n"
     ]
    }
   ],
   "source": [
    "#lst=[10, 20, 30, 40, 50, 60, 70, 80]\n",
    "\n",
    "#Add \"90\" and \"100\" to the end\n",
    "lst.append(90)\n",
    "lst.append(100)\n",
    "print(lst)\n",
    "#Remoce second element from list\n",
    "lst.pop(1)\n",
    "print(lst)\n",
    "#reverse order \n",
    "lst.reverse()\n",
    "print(lst)\n",
    "#Index element of \"50\"\n",
    "print(lst.index(50))\n",
    "\n"
   ]
  },
  {
   "cell_type": "markdown",
   "metadata": {},
   "source": [
    "##### Tuples: Count and print occurance of \"20\", convert tup into list add \"45\" at the end and make tuple agane"
   ]
  },
  {
   "cell_type": "code",
   "execution_count": 66,
   "metadata": {},
   "outputs": [
    {
     "name": "stdout",
     "output_type": "stream",
     "text": [
      "1\n",
      "(5, 10, 15, 20, 25, 30, 35, 40, 45)\n"
     ]
    }
   ],
   "source": [
    "#tup =tup = (5, 10, 15, 20, 25, 30, 35, 40)\n",
    "\n",
    "#Count and print occurance of \"20\"\n",
    "print(tup.count(20))\n",
    "#Add 45 to end \n",
    "tup=list(tup)\n",
    "tup.append(45)\n",
    "tup=tuple(tup)\n",
    "print(tup)\n"
   ]
  },
  {
   "cell_type": "markdown",
   "metadata": {},
   "source": [
    "##### Dictionaries: Add new key-value, find and print age of \"Velma\", remove \"Scooby\", print all keys and values"
   ]
  },
  {
   "cell_type": "code",
   "execution_count": 70,
   "metadata": {},
   "outputs": [
    {
     "name": "stdout",
     "output_type": "stream",
     "text": [
      "18\n",
      "{'Shaggy': 19, 'Velma': 18, 'Daphne': 20, 'Phred': 21}\n",
      "dict_keys(['Shaggy', 'Velma', 'Daphne', 'Phred'])\n",
      "dict_values([19, 18, 20, 21])\n"
     ]
    }
   ],
   "source": [
    "S_Doo_ = {\"Scooby\": 4, \"Shaggy\": 19, \"Velma\": 18, \"Daphne\": 20}\n",
    "\n",
    "#Add new pair\n",
    "S_Doo_[\"Phred\"]=21\n",
    "#Print age of \"Velma\"\n",
    "print(S_Doo_[\"Velma\"])\n",
    "#Remove pair\n",
    "del S_Doo_[\"Scooby\"]\n",
    "print(S_Doo_)\n",
    "#Print all keys\n",
    "print(S_Doo_.keys())\n",
    "#Print all keys\n",
    "print(S_Doo_.values())\n",
    "\n"
   ]
  },
  {
   "cell_type": "markdown",
   "metadata": {},
   "source": [
    "### Bonus: Make and print a lsit of keys in dictionary using \"Keys\" function"
   ]
  },
  {
   "cell_type": "code",
   "execution_count": 71,
   "metadata": {},
   "outputs": [
    {
     "name": "stdout",
     "output_type": "stream",
     "text": [
      "['Shaggy', 'Velma', 'Daphne', 'Phred']\n"
     ]
    }
   ],
   "source": [
    "slst=list(S_Doo_.keys())\n",
    "print(slst)"
   ]
  }
 ],
 "metadata": {
  "kernelspec": {
   "display_name": "cs329e",
   "language": "python",
   "name": "python3"
  },
  "language_info": {
   "codemirror_mode": {
    "name": "ipython",
    "version": 3
   },
   "file_extension": ".py",
   "mimetype": "text/x-python",
   "name": "python",
   "nbconvert_exporter": "python",
   "pygments_lexer": "ipython3",
   "version": "3.9.17"
  },
  "orig_nbformat": 4
 },
 "nbformat": 4,
 "nbformat_minor": 2
}
