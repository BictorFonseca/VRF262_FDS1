{
 "cells": [
  {
   "cell_type": "markdown",
   "metadata": {},
   "source": [
    "## Python Looping HW"
   ]
  },
  {
   "cell_type": "markdown",
   "metadata": {},
   "source": [
    "##### Part 1: for loops with lists and range()\n"
   ]
  },
  {
   "cell_type": "markdown",
   "metadata": {},
   "source": [
    "###### 1. Lists: A.) write program that takes list and prints each item * 2B.) Given list of string, print out elements of string in reverse order without reversing list"
   ]
  },
  {
   "cell_type": "code",
   "execution_count": 31,
   "metadata": {},
   "outputs": [
    {
     "name": "stdout",
     "output_type": "stream",
     "text": [
      "4\n",
      "8\n",
      "12\n",
      "16\n"
     ]
    }
   ],
   "source": [
    "lst=[2,4,6,8]\n",
    "\n",
    "for i in range(len(lst)):\n",
    "    print(lst[i]*2)"
   ]
  },
  {
   "cell_type": "code",
   "execution_count": 32,
   "metadata": {},
   "outputs": [
    {
     "name": "stdout",
     "output_type": "stream",
     "text": [
      "['grape', 'kiwi', 'pear', 'apple']\n"
     ]
    }
   ],
   "source": [
    "lst=[\"apple\", \"pear\", \"kiwi\", \"grape\"]\n",
    "\n",
    "print(lst[::-1])"
   ]
  },
  {
   "cell_type": "markdown",
   "metadata": {},
   "source": [
    "###### 2. Using range function: A.) write code using for loop and range to print numbers 0-9 B.) use range to print 5-15 C.) print out first 10 even numbers"
   ]
  },
  {
   "cell_type": "code",
   "execution_count": 33,
   "metadata": {},
   "outputs": [
    {
     "name": "stdout",
     "output_type": "stream",
     "text": [
      "A.)\n",
      "0\n",
      "1\n",
      "2\n",
      "3\n",
      "4\n",
      "5\n",
      "6\n",
      "7\n",
      "8\n",
      "9\n",
      "B.)\n",
      "5\n",
      "6\n",
      "7\n",
      "8\n",
      "9\n",
      "10\n",
      "11\n",
      "12\n",
      "13\n",
      "14\n",
      "15\n"
     ]
    }
   ],
   "source": [
    "#A. 0-9\n",
    "print(\"A.)\")\n",
    "for i in range(0,10):\n",
    "    print(i)\n",
    "#B. numbers 5-15\n",
    "print(\"B.)\")\n",
    "for i in range(5,16):\n",
    "    print(i)"
   ]
  },
  {
   "cell_type": "code",
   "execution_count": 34,
   "metadata": {},
   "outputs": [
    {
     "name": "stdout",
     "output_type": "stream",
     "text": [
      "C.)\n",
      "0\n",
      "2\n",
      "4\n",
      "6\n",
      "8\n",
      "10\n",
      "12\n",
      "14\n",
      "16\n",
      "18\n"
     ]
    }
   ],
   "source": [
    "#C. First 10 even numbers\n",
    "print(\"C.)\")\n",
    "for i in range(0,20,2):\n",
    "    print(i)"
   ]
  },
  {
   "cell_type": "markdown",
   "metadata": {},
   "source": [
    "##### Part 2: Dictionaries and Loops. A.) Create dict. write program that prints students name and color. B.) Write program thar doubles quantity of product and prints updated"
   ]
  },
  {
   "cell_type": "code",
   "execution_count": 17,
   "metadata": {},
   "outputs": [
    {
     "name": "stdout",
     "output_type": "stream",
     "text": [
      "Alex 's favorite color is Blue\n",
      "Jordan 's favorite color is Green\n",
      "Taylor 's favorite color is Red\n"
     ]
    }
   ],
   "source": [
    "name_color={\"Alex\":\"Blue\", \"Jordan\":\"Green\", \"Taylor\":\"Red\"}\n",
    "\n",
    "for i in name_color:\n",
    "    print(i,\"'s favorite color is\", name_color[i])"
   ]
  },
  {
   "cell_type": "code",
   "execution_count": 18,
   "metadata": {},
   "outputs": [
    {
     "name": "stdout",
     "output_type": "stream",
     "text": [
      "apple now has 10\n",
      "banana now has 6\n",
      "cherries now has 20\n"
     ]
    }
   ],
   "source": [
    "products={\"apple\": 5, \"banana\": 3, \"cherries\": 10}\n",
    "\n",
    "for i in products:\n",
    "    products[i]+=products[i]\n",
    "    print(i, \"now has\", products[i])"
   ]
  },
  {
   "cell_type": "markdown",
   "metadata": {},
   "source": [
    "##### Part 3: Storing Results and list comprehension"
   ]
  },
  {
   "cell_type": "markdown",
   "metadata": {},
   "source": [
    "###### 1. not using list comp. A.) take a list of numbers and create new list with each item *2 B.) create new list of words that contain first letter of word"
   ]
  },
  {
   "cell_type": "code",
   "execution_count": 21,
   "metadata": {},
   "outputs": [
    {
     "name": "stdout",
     "output_type": "stream",
     "text": [
      "A.) [2, 6, 10, 14]\n",
      "B.) ['A', 'B', 'C', 'D']\n"
     ]
    }
   ],
   "source": [
    "#double num\n",
    "lst=[1, 3, 5, 7]\n",
    "nl=[]\n",
    "for i in lst:\n",
    "    nl.append(i*2)\n",
    "print(\"A.)\", nl)\n",
    "\n",
    "#first letter\n",
    "lst=[\"Apple\", \"Banana\", \"Cherry\", \"Date\"]\n",
    "nl=[]\n",
    "for i in lst:\n",
    "    nl.append(i[0])\n",
    "print(\"B.)\",nl)"
   ]
  },
  {
   "cell_type": "markdown",
   "metadata": {},
   "source": [
    "###### 2.) Using list comp. C.)compute and save square roots of 1-10 D.)create new list containing last letter of each word"
   ]
  },
  {
   "cell_type": "code",
   "execution_count": 22,
   "metadata": {},
   "outputs": [
    {
     "name": "stdout",
     "output_type": "stream",
     "text": [
      "[1.0, 1.4142135623730951, 1.7320508075688772, 2.0, 2.23606797749979, 2.449489742783178, 2.6457513110645907, 2.8284271247461903, 3.0, 3.1622776601683795]\n"
     ]
    }
   ],
   "source": [
    "lst=[1, 2, 3, 4, 5, 6, 7, 8, 9, 10]\n",
    "nl=[i**(1/2) for i in lst]\n",
    "print(nl)"
   ]
  },
  {
   "cell_type": "code",
   "execution_count": 23,
   "metadata": {},
   "outputs": [
    {
     "name": "stdout",
     "output_type": "stream",
     "text": [
      "['e', 'r', 'i', 'e']\n"
     ]
    }
   ],
   "source": [
    "lst=[\"apple\", \"pear\", \"kiwi\", \"grape\"]\n",
    "nl=[i[-1] for i in lst]\n",
    "print(nl)"
   ]
  },
  {
   "cell_type": "markdown",
   "metadata": {},
   "source": [
    "##### Part 4: Nested loops. A.) flatten lists B.)reverse both order of strings and order of letters in each string"
   ]
  },
  {
   "cell_type": "code",
   "execution_count": 28,
   "metadata": {},
   "outputs": [
    {
     "name": "stdout",
     "output_type": "stream",
     "text": [
      "A [1, 2, 3, 4, 5, 6, 7, 8, 9, 10, 11, 12, 13, 14, 15, 16, 17, 18, 19, 20, 21, 22, 23, 42]\n",
      "B. ['able', 'was', 'I', 'ere', 'I', 'saw', 'elba']\n"
     ]
    }
   ],
   "source": [
    "deep_list = [[[1, 2, 3, 4], [5, 6, 7, 8]],\n",
    "            [[9, 10, 11, 12], [13, 14, 15, 16]],\n",
    "            [[17, 18, 19, 20], [21, 22, 23, 42]]]\n",
    "nl=[]\n",
    "for i in deep_list:\n",
    "    for j in i:\n",
    "        for k in j:\n",
    "            nl.append(k)\n",
    "print(\"A\", nl)\n",
    "\n",
    "#Part B.\n",
    "myStrLst = [\"able\", \"was\", \"I\", \"ere\", \"I\", \"saw\", \"elba\"]\n",
    "nl=[]\n",
    "for i in myStrLst:\n",
    "    nl.insert(0,i[::-1])\n",
    "print(\"B.\", nl)\n",
    "\n"
   ]
  }
 ],
 "metadata": {
  "kernelspec": {
   "display_name": "cs329e",
   "language": "python",
   "name": "python3"
  },
  "language_info": {
   "codemirror_mode": {
    "name": "ipython",
    "version": 3
   },
   "file_extension": ".py",
   "mimetype": "text/x-python",
   "name": "python",
   "nbconvert_exporter": "python",
   "pygments_lexer": "ipython3",
   "version": "3.9.17"
  },
  "orig_nbformat": 4
 },
 "nbformat": 4,
 "nbformat_minor": 2
}
